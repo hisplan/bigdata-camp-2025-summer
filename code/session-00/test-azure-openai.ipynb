{
 "cells": [
  {
   "cell_type": "markdown",
   "metadata": {},
   "source": [
    "*Copyright 2025 Jaeyoung Chun*\n",
    "\n",
    "You may not make copies of this and use or distribute it for any purpose."
   ]
  },
  {
   "cell_type": "markdown",
   "metadata": {},
   "source": [
    "# Azure OpenAI"
   ]
  },
  {
   "cell_type": "code",
   "execution_count": 1,
   "metadata": {
    "id": "5Vl3VOLZp0hL"
   },
   "outputs": [],
   "source": [
    "import os\n",
    "from dotenv import load_dotenv\n",
    "\n",
    "from langchain_openai import AzureChatOpenAI\n",
    "from langchain.schema import HumanMessage"
   ]
  },
  {
   "cell_type": "code",
   "execution_count": 2,
   "metadata": {},
   "outputs": [
    {
     "data": {
      "text/plain": [
       "True"
      ]
     },
     "execution_count": 2,
     "metadata": {},
     "output_type": "execute_result"
    }
   ],
   "source": [
    "load_dotenv()"
   ]
  },
  {
   "cell_type": "markdown",
   "metadata": {},
   "source": [
    "## GPT-4"
   ]
  },
  {
   "cell_type": "code",
   "execution_count": 3,
   "metadata": {
    "id": "6GFMCrU6B4yY"
   },
   "outputs": [],
   "source": [
    "AZURE_DEPLOYMENT_NAME = \"gpt-4\"\n",
    "AZURE_OPENAI_API_VERSION = \"2024-08-01-preview\""
   ]
  },
  {
   "cell_type": "code",
   "execution_count": 4,
   "metadata": {
    "id": "kuUXJ42UpwYu"
   },
   "outputs": [],
   "source": [
    "model = AzureChatOpenAI(\n",
    "    openai_api_version=AZURE_OPENAI_API_VERSION,\n",
    "    deployment_name=AZURE_DEPLOYMENT_NAME,\n",
    "    openai_api_type=\"azure\",\n",
    ")"
   ]
  },
  {
   "cell_type": "code",
   "execution_count": 5,
   "metadata": {
    "id": "diZrEe03ChD5"
   },
   "outputs": [],
   "source": [
    "response = model.invoke(input=\"Agentic AI에 대해 설명해주세요.\")"
   ]
  },
  {
   "cell_type": "code",
   "execution_count": 6,
   "metadata": {
    "colab": {
     "base_uri": "https://localhost:8080/"
    },
    "id": "RmN69EYXC5zt",
    "outputId": "bbd603de-64cd-4fac-a618-2373c71410a1"
   },
   "outputs": [
    {
     "data": {
      "text/plain": [
       "AIMessage(content='Agentic AI(구동적 AI)는 인간과 협력하여 자율적으로 행동하고 결정을 내릴 수 있는 인공지능 시스템을 말합니다. 이러한 AI는 고도의 지능과 자기인식 능력을 가지고 있어 복잡한 문제를 해결하고, 인간의 의사결정을 돕거나 대신할 수 있습니다. Agentic AI는 자율주행차, 의료 진단, 금융 투자 분석 등 다양한 분야에서 활용될 수 있으며, 앞으로 AI 기술 발전에 따라 그 범위가 확대될 것으로 예상됩니다.', additional_kwargs={'refusal': None}, response_metadata={'token_usage': {'completion_tokens': 192, 'prompt_tokens': 18, 'total_tokens': 210, 'completion_tokens_details': None, 'prompt_tokens_details': None}, 'model_name': 'gpt-4-turbo-2024-04-09', 'system_fingerprint': 'fp_5603ee5e2e', 'id': 'chatcmpl-Br0fnQHrMPLZ3LSp7QwpKzj2TmHaF', 'service_tier': None, 'prompt_filter_results': [{'prompt_index': 0, 'content_filter_results': {'hate': {'filtered': False, 'severity': 'safe'}, 'jailbreak': {'filtered': False, 'detected': False}, 'self_harm': {'filtered': False, 'severity': 'safe'}, 'sexual': {'filtered': False, 'severity': 'safe'}, 'violence': {'filtered': False, 'severity': 'safe'}}}], 'finish_reason': 'stop', 'logprobs': None, 'content_filter_results': {'hate': {'filtered': False, 'severity': 'safe'}, 'protected_material_code': {'filtered': False, 'detected': False}, 'protected_material_text': {'filtered': False, 'detected': False}, 'self_harm': {'filtered': False, 'severity': 'safe'}, 'sexual': {'filtered': False, 'severity': 'safe'}, 'violence': {'filtered': False, 'severity': 'safe'}}}, id='run--c575c7b8-1697-4e1f-a0c5-b335b744c613-0', usage_metadata={'input_tokens': 18, 'output_tokens': 192, 'total_tokens': 210, 'input_token_details': {}, 'output_token_details': {}})"
      ]
     },
     "execution_count": 6,
     "metadata": {},
     "output_type": "execute_result"
    }
   ],
   "source": [
    "response"
   ]
  },
  {
   "cell_type": "code",
   "execution_count": 7,
   "metadata": {
    "colab": {
     "base_uri": "https://localhost:8080/",
     "height": 53
    },
    "id": "kLnHFbnTC9qC",
    "outputId": "a7246f88-b0e1-4cab-e6ea-59354c311129"
   },
   "outputs": [
    {
     "name": "stdout",
     "output_type": "stream",
     "text": [
      "Agentic AI(구동적 AI)는 인간과 협력하여 자율적으로 행동하고 결정을 내릴 수 있는 인공지능 시스템을 말합니다. 이러한 AI는 고도의 지능과 자기인식 능력을 가지고 있어 복잡한 문제를 해결하고, 인간의 의사결정을 돕거나 대신할 수 있습니다. Agentic AI는 자율주행차, 의료 진단, 금융 투자 분석 등 다양한 분야에서 활용될 수 있으며, 앞으로 AI 기술 발전에 따라 그 범위가 확대될 것으로 예상됩니다.\n"
     ]
    }
   ],
   "source": [
    "print(response.content)"
   ]
  },
  {
   "cell_type": "markdown",
   "metadata": {},
   "source": [
    "## GPT-3.5 Turbo"
   ]
  },
  {
   "cell_type": "code",
   "execution_count": 8,
   "metadata": {
    "id": "6GFMCrU6B4yY"
   },
   "outputs": [],
   "source": [
    "AZURE_DEPLOYMENT_NAME = \"gpt-35-turbo\"\n",
    "AZURE_OPENAI_API_VERSION = \"2024-08-01-preview\""
   ]
  },
  {
   "cell_type": "code",
   "execution_count": 9,
   "metadata": {
    "id": "kuUXJ42UpwYu"
   },
   "outputs": [],
   "source": [
    "model = AzureChatOpenAI(\n",
    "    openai_api_version=AZURE_OPENAI_API_VERSION,\n",
    "    deployment_name=AZURE_DEPLOYMENT_NAME,\n",
    "    openai_api_type=\"azure\",\n",
    ")"
   ]
  },
  {
   "cell_type": "code",
   "execution_count": 10,
   "metadata": {
    "id": "diZrEe03ChD5"
   },
   "outputs": [],
   "source": [
    "response = model.invoke(input=\"Agentic AI에 대해 설명해주세요.\")"
   ]
  },
  {
   "cell_type": "code",
   "execution_count": 11,
   "metadata": {
    "colab": {
     "base_uri": "https://localhost:8080/"
    },
    "id": "RmN69EYXC5zt",
    "outputId": "bbd603de-64cd-4fac-a618-2373c71410a1"
   },
   "outputs": [
    {
     "data": {
      "text/plain": [
       "AIMessage(content='Agentic AI는 인간과 유사한 능력과 행동을 수행하는 인공 지능을 의미합니다. 이러한 AI 시스템은 독립적으로 문제를 해결하고 의사 결정을 내릴 수 있으며, 자율적으로 행동할 수 있습니다. Agentic AI는 자율주의적이며, 인간과 유사한 방식으로 환경을 탐색하고 학습할 수 있습니다.\\n\\nAgentic AI는 일상 생활에서 많은 분야에 적용될 수 있습니다. 예를 들어, 자율 주행 자동차는 Agentic AI의 한 예인데, 이들은 주행 환경을 탐색하고 도로 상황에 대한 판단을 내릴 수 있습니다. 또한, 의료 진달의 보조를 돕는 의학 AI도 Agentic AI의 한 예입니다. \\n\\nAgentic AI는 고도화된 인지 능력을 가지고 있어서, 복잡한 문제를 해결하고 인간과 협업하여 일을 수행할 수 있습니다. 그러나 Agentic AI가 인간과 다른 점은 감정이나 자기 의식을 갖지는 않는다는 것입니다. 이러한 점을 감안하고 적절히 활용된다면, Agentic AI는 현대 사회에 많은 혜택을 제공할 수 있습니다.', additional_kwargs={'refusal': None}, response_metadata={'token_usage': {'completion_tokens': 390, 'prompt_tokens': 18, 'total_tokens': 408, 'completion_tokens_details': None, 'prompt_tokens_details': None}, 'model_name': 'gpt-3.5-turbo-0125', 'system_fingerprint': 'fp_0165350fbb', 'id': 'chatcmpl-Br0fu7P1mBDJ32LGddmMLI0RFJIVV', 'service_tier': None, 'prompt_filter_results': [{'prompt_index': 0, 'content_filter_results': {'hate': {'filtered': False, 'severity': 'safe'}, 'jailbreak': {'filtered': False, 'detected': False}, 'self_harm': {'filtered': False, 'severity': 'safe'}, 'sexual': {'filtered': False, 'severity': 'safe'}, 'violence': {'filtered': False, 'severity': 'safe'}}}], 'finish_reason': 'stop', 'logprobs': None, 'content_filter_results': {'hate': {'filtered': False, 'severity': 'safe'}, 'protected_material_code': {'filtered': False, 'detected': False}, 'protected_material_text': {'filtered': False, 'detected': False}, 'self_harm': {'filtered': False, 'severity': 'safe'}, 'sexual': {'filtered': False, 'severity': 'safe'}, 'violence': {'filtered': False, 'severity': 'safe'}}}, id='run--2f5f9411-ddfe-4a7f-aa1f-fe30c7907742-0', usage_metadata={'input_tokens': 18, 'output_tokens': 390, 'total_tokens': 408, 'input_token_details': {}, 'output_token_details': {}})"
      ]
     },
     "execution_count": 11,
     "metadata": {},
     "output_type": "execute_result"
    }
   ],
   "source": [
    "response"
   ]
  },
  {
   "cell_type": "code",
   "execution_count": 12,
   "metadata": {
    "colab": {
     "base_uri": "https://localhost:8080/",
     "height": 53
    },
    "id": "kLnHFbnTC9qC",
    "outputId": "a7246f88-b0e1-4cab-e6ea-59354c311129"
   },
   "outputs": [
    {
     "name": "stdout",
     "output_type": "stream",
     "text": [
      "Agentic AI는 인간과 유사한 능력과 행동을 수행하는 인공 지능을 의미합니다. 이러한 AI 시스템은 독립적으로 문제를 해결하고 의사 결정을 내릴 수 있으며, 자율적으로 행동할 수 있습니다. Agentic AI는 자율주의적이며, 인간과 유사한 방식으로 환경을 탐색하고 학습할 수 있습니다.\n",
      "\n",
      "Agentic AI는 일상 생활에서 많은 분야에 적용될 수 있습니다. 예를 들어, 자율 주행 자동차는 Agentic AI의 한 예인데, 이들은 주행 환경을 탐색하고 도로 상황에 대한 판단을 내릴 수 있습니다. 또한, 의료 진달의 보조를 돕는 의학 AI도 Agentic AI의 한 예입니다. \n",
      "\n",
      "Agentic AI는 고도화된 인지 능력을 가지고 있어서, 복잡한 문제를 해결하고 인간과 협업하여 일을 수행할 수 있습니다. 그러나 Agentic AI가 인간과 다른 점은 감정이나 자기 의식을 갖지는 않는다는 것입니다. 이러한 점을 감안하고 적절히 활용된다면, Agentic AI는 현대 사회에 많은 혜택을 제공할 수 있습니다.\n"
     ]
    }
   ],
   "source": [
    "print(response.content)"
   ]
  }
 ],
 "metadata": {
  "colab": {
   "provenance": []
  },
  "kernelspec": {
   "display_name": "Python 3 (ipykernel)",
   "language": "python",
   "name": "python3"
  },
  "language_info": {
   "codemirror_mode": {
    "name": "ipython",
    "version": 3
   },
   "file_extension": ".py",
   "mimetype": "text/x-python",
   "name": "python",
   "nbconvert_exporter": "python",
   "pygments_lexer": "ipython3",
   "version": "3.12.11"
  }
 },
 "nbformat": 4,
 "nbformat_minor": 4
}
