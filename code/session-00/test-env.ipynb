{
 "cells": [
  {
   "cell_type": "markdown",
   "id": "012034a2-a0ef-431f-a19f-0257d241228b",
   "metadata": {},
   "source": [
    "*Copyright 2025 Jaeyoung Chun*\n",
    "\n",
    "You may not make copies of this and use or distribute it for any purpose."
   ]
  },
  {
   "cell_type": "code",
   "execution_count": 1,
   "id": "937b1ce7-5e14-4104-be40-f85e59c129d6",
   "metadata": {},
   "outputs": [],
   "source": [
    "import os\n",
    "from dotenv import load_dotenv"
   ]
  },
  {
   "cell_type": "code",
   "execution_count": 2,
   "id": "30406081-43c5-4133-a6b7-26cf6b0f665b",
   "metadata": {},
   "outputs": [
    {
     "data": {
      "text/plain": [
       "True"
      ]
     },
     "execution_count": 2,
     "metadata": {},
     "output_type": "execute_result"
    }
   ],
   "source": [
    "load_dotenv()"
   ]
  },
  {
   "cell_type": "code",
   "execution_count": 3,
   "id": "87132756-e316-4c48-9978-7346ed0ee97e",
   "metadata": {},
   "outputs": [
    {
     "data": {
      "text/plain": [
       "'https://hgu-llm-rag-test1.openai.azure.com/'"
      ]
     },
     "execution_count": 3,
     "metadata": {},
     "output_type": "execute_result"
    }
   ],
   "source": [
    "os.environ.get(\"AZURE_OPENAI_ENDPOINT\")"
   ]
  }
 ],
 "metadata": {
  "kernelspec": {
   "display_name": "Python 3 (ipykernel)",
   "language": "python",
   "name": "python3"
  },
  "language_info": {
   "codemirror_mode": {
    "name": "ipython",
    "version": 3
   },
   "file_extension": ".py",
   "mimetype": "text/x-python",
   "name": "python",
   "nbconvert_exporter": "python",
   "pygments_lexer": "ipython3",
   "version": "3.12.11"
  }
 },
 "nbformat": 4,
 "nbformat_minor": 5
}
