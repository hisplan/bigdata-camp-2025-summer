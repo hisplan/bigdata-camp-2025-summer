{
 "cells": [
  {
   "cell_type": "markdown",
   "id": "1bef682f-7530-4273-9414-20ffc129f8a1",
   "metadata": {},
   "source": [
    "*Copyright 2025 Jaeyoung Chun*\n",
    "\n",
    "You may not make copies of this and use or distribute it for any purpose."
   ]
  },
  {
   "cell_type": "markdown",
   "id": "d1b04b1a-2158-455e-8c1e-768c33d0bdbc",
   "metadata": {},
   "source": [
    "# OpenAI"
   ]
  },
  {
   "cell_type": "markdown",
   "id": "e5bd7ca6-d6b2-4bc5-804f-da374aa0eac5",
   "metadata": {},
   "source": [
    "## Load API Key"
   ]
  },
  {
   "cell_type": "code",
   "execution_count": null,
   "id": "1d2de24b-e62b-4fe9-adb5-8816fa2da3e6",
   "metadata": {},
   "outputs": [],
   "source": [
    "from dotenv import load_dotenv, find_dotenv"
   ]
  },
  {
   "cell_type": "code",
   "execution_count": 2,
   "id": "e32802b1-4548-4776-8820-556624710359",
   "metadata": {},
   "outputs": [
    {
     "data": {
      "text/plain": [
       "True"
      ]
     },
     "execution_count": 2,
     "metadata": {},
     "output_type": "execute_result"
    }
   ],
   "source": [
    "load_dotenv(\n",
    "    dotenv_path=find_dotenv(filename=\".env.openai\"),\n",
    "    override=True\n",
    ")"
   ]
  },
  {
   "cell_type": "markdown",
   "id": "f65b9cf6-8595-46a0-99e7-f16dda7cc4b4",
   "metadata": {},
   "source": [
    "## Using Chat Completions API"
   ]
  },
  {
   "cell_type": "code",
   "execution_count": 1,
   "id": "fc96cd53-f35d-4947-9fd4-237159571a74",
   "metadata": {},
   "outputs": [],
   "source": [
    "from openai import OpenAI"
   ]
  },
  {
   "cell_type": "code",
   "execution_count": 3,
   "id": "0e0c310f-c536-42b3-b715-48098cf7063d",
   "metadata": {},
   "outputs": [],
   "source": [
    "client = OpenAI()"
   ]
  },
  {
   "cell_type": "code",
   "execution_count": 5,
   "id": "2af6993c-07ea-491e-88f7-44b8307992d9",
   "metadata": {},
   "outputs": [],
   "source": [
    "out = client.chat.completions.create(\n",
    "    model=\"gpt-4o-mini\",\n",
    "    messages=[\n",
    "        {\n",
    "            \"role\": \"user\",\n",
    "            \"content\": \"Who won the World Cup in 2022?\"\n",
    "        }\n",
    "    ]\n",
    ")"
   ]
  },
  {
   "cell_type": "code",
   "execution_count": 6,
   "id": "db992841-ada7-4564-80ad-dd3d3192e40e",
   "metadata": {},
   "outputs": [
    {
     "data": {
      "text/plain": [
       "ChatCompletion(id='chatcmpl-BrZq39xpRVaZl2drvgsE6DO04LcdC', choices=[Choice(finish_reason='stop', index=0, logprobs=None, message=ChatCompletionMessage(content=\"Argentina won the 2022 FIFA World Cup, defeating France in the final match, which ended in a dramatic penalty shootout after a 3-3 draw in regulation and extra time. This victory marked Argentina's third World Cup title, with their previous wins in 1978 and 1986.\", refusal=None, role='assistant', annotations=[], audio=None, function_call=None, tool_calls=None))], created=1752108847, model='gpt-4o-mini-2024-07-18', object='chat.completion', service_tier='default', system_fingerprint='fp_34a54ae93c', usage=CompletionUsage(completion_tokens=61, prompt_tokens=17, total_tokens=78, completion_tokens_details=CompletionTokensDetails(accepted_prediction_tokens=0, audio_tokens=0, reasoning_tokens=0, rejected_prediction_tokens=0), prompt_tokens_details=PromptTokensDetails(audio_tokens=0, cached_tokens=0)))"
      ]
     },
     "execution_count": 6,
     "metadata": {},
     "output_type": "execute_result"
    }
   ],
   "source": [
    "out"
   ]
  },
  {
   "cell_type": "code",
   "execution_count": 7,
   "id": "440102d9-6fa5-4f1d-b7e7-897051937da8",
   "metadata": {},
   "outputs": [
    {
     "data": {
      "text/plain": [
       "\"Argentina won the 2022 FIFA World Cup, defeating France in the final match, which ended in a dramatic penalty shootout after a 3-3 draw in regulation and extra time. This victory marked Argentina's third World Cup title, with their previous wins in 1978 and 1986.\""
      ]
     },
     "execution_count": 7,
     "metadata": {},
     "output_type": "execute_result"
    }
   ],
   "source": [
    "out.choices[0].message.content"
   ]
  },
  {
   "cell_type": "markdown",
   "id": "2b4fc676-7077-4c99-8618-02dd87bac974",
   "metadata": {},
   "source": [
    "## Using Invoke API"
   ]
  },
  {
   "cell_type": "code",
   "execution_count": 8,
   "id": "6131de51-ec3b-4d70-a07b-bc3321eb684d",
   "metadata": {},
   "outputs": [],
   "source": [
    "from langchain_openai import ChatOpenAI"
   ]
  },
  {
   "cell_type": "code",
   "execution_count": 9,
   "id": "c21cd223-c4cb-420c-b50d-37fa0919bc8b",
   "metadata": {},
   "outputs": [],
   "source": [
    "chat = ChatOpenAI(\n",
    "    model_name=\"gpt-4o-mini\"\n",
    ")"
   ]
  },
  {
   "cell_type": "code",
   "execution_count": 10,
   "id": "f0102ecc-2fcc-4717-b9d3-2a2715b581b1",
   "metadata": {},
   "outputs": [],
   "source": [
    "out = chat.invoke(\"Who won the FIFA World Cup in 2022?\")"
   ]
  },
  {
   "cell_type": "code",
   "execution_count": 11,
   "id": "41c36283-c669-405c-a0d1-928aa7cbeeb6",
   "metadata": {},
   "outputs": [
    {
     "data": {
      "text/plain": [
       "AIMessage(content=\"Argentina won the FIFA World Cup in 2022. They defeated France in the final, which ended in a dramatic penalty shootout after a 3-3 draw in regulation and extra time. This victory marked Argentina's third World Cup title, with their previous wins in 1978 and 1986.\", additional_kwargs={'refusal': None}, response_metadata={'token_usage': {'completion_tokens': 62, 'prompt_tokens': 18, 'total_tokens': 80, 'completion_tokens_details': {'accepted_prediction_tokens': 0, 'audio_tokens': 0, 'reasoning_tokens': 0, 'rejected_prediction_tokens': 0}, 'prompt_tokens_details': {'audio_tokens': 0, 'cached_tokens': 0}}, 'model_name': 'gpt-4o-mini-2024-07-18', 'system_fingerprint': 'fp_34a54ae93c', 'id': 'chatcmpl-BrZq65l2iGkC7R5K1qvmymMqblGbr', 'service_tier': 'default', 'finish_reason': 'stop', 'logprobs': None}, id='run--73620668-0926-4450-a052-bca0fb27485e-0', usage_metadata={'input_tokens': 18, 'output_tokens': 62, 'total_tokens': 80, 'input_token_details': {'audio': 0, 'cache_read': 0}, 'output_token_details': {'audio': 0, 'reasoning': 0}})"
      ]
     },
     "execution_count": 11,
     "metadata": {},
     "output_type": "execute_result"
    }
   ],
   "source": [
    "# AIMessage\n",
    "out"
   ]
  },
  {
   "cell_type": "code",
   "execution_count": 12,
   "id": "0bb887c6-65e6-4521-841f-c580d66431a2",
   "metadata": {},
   "outputs": [
    {
     "data": {
      "text/plain": [
       "\"Argentina won the FIFA World Cup in 2022. They defeated France in the final, which ended in a dramatic penalty shootout after a 3-3 draw in regulation and extra time. This victory marked Argentina's third World Cup title, with their previous wins in 1978 and 1986.\""
      ]
     },
     "execution_count": 12,
     "metadata": {},
     "output_type": "execute_result"
    }
   ],
   "source": [
    "out.content"
   ]
  }
 ],
 "metadata": {
  "kernelspec": {
   "display_name": "Python 3 (ipykernel)",
   "language": "python",
   "name": "python3"
  },
  "language_info": {
   "codemirror_mode": {
    "name": "ipython",
    "version": 3
   },
   "file_extension": ".py",
   "mimetype": "text/x-python",
   "name": "python",
   "nbconvert_exporter": "python",
   "pygments_lexer": "ipython3",
   "version": "3.12.11"
  }
 },
 "nbformat": 4,
 "nbformat_minor": 5
}
